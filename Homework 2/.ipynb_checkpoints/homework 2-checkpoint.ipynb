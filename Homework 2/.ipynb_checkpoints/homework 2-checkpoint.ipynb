{
 "cells": [
  {
   "cell_type": "code",
   "execution_count": 1,
   "id": "54e4e17e-ec8b-4cd5-b1dc-f4b0c88846de",
   "metadata": {},
   "outputs": [],
   "source": [
    "import numpy as np \n",
    "import matplotlib.pyplot as plt \n",
    "import pandas as pd\n",
    "import seaborn as sns \n",
    "import warnings \n",
    "warnings.filterwarnings('ignore') \n",
    "\n",
    "from sklearn.model_selection import train_test_split\n",
    "from sklearn.preprocessing import StandardScaler \n",
    "from sklearn.linear_model import LogisticRegression\n",
    "from sklearn.metrics import confusion_matrix\n",
    "from sklearn import metrics\n",
    "from matplotlib.colors import ListedColormap\n",
    "from sklearn.naive_bayes import GaussianNB \n",
    "from sklearn.metrics import confusion_matrix,accuracy_score\n",
    "from sklearn.model_selection import cross_validate\n",
    "from sklearn.model_selection import KFold"
   ]
  },
  {
   "cell_type": "code",
   "execution_count": 2,
   "id": "82dbc246-f00a-4b8c-b8a5-9f330d9257a5",
   "metadata": {},
   "outputs": [],
   "source": [
    "dataset = pd.read_csv('diabetes.csv') \n",
    "\n",
    "X = dataset.iloc[:,:8].values \n",
    "Y = dataset.iloc[:, 8].values \n",
    "\n",
    "# Splitting the data for problems 1 and 2\n",
    "X_train, X_test, Y_train, Y_test = train_test_split(X, Y, test_size = 0.20, random_state=42)"
   ]
  },
  {
   "cell_type": "code",
   "execution_count": 3,
   "id": "0ce843fb-7b63-4dfd-81d2-30af0f3cc5bd",
   "metadata": {},
   "outputs": [],
   "source": [
    "# Problem 1\n",
    "# Scaling the features\n",
    "sc_X = StandardScaler() \n",
    "X_train = sc_X.fit_transform(X_train) \n",
    "X_test = sc_X.transform(X_test)\n",
    "\n",
    "# Creating the logistic model and fitting it\n",
    "classifier = LogisticRegression(random_state=42) \n",
    "classifier.fit(X_train, Y_train)\n",
    "\n",
    "# Creating predictions with the test data\n",
    "Y_pred = classifier.predict(X_test)"
   ]
  },
  {
   "cell_type": "code",
   "execution_count": 4,
   "id": "3dc0def3-eb85-44c7-bc53-806a9213d2f6",
   "metadata": {},
   "outputs": [
    {
     "name": "stdout",
     "output_type": "stream",
     "text": [
      "Accuracy: 0.7532467532467533\n",
      "Precision: 0.6491228070175439\n",
      "Recall: 0.6727272727272727\n"
     ]
    }
   ],
   "source": [
    "# Computing the metrics for the model\n",
    "cnf_matrix = confusion_matrix(Y_test, Y_pred) \n",
    "\n",
    "print(\"Accuracy:\",metrics.accuracy_score(Y_test, Y_pred)) \n",
    "print(\"Precision:\",metrics.precision_score(Y_test, Y_pred)) \n",
    "print(\"Recall:\",metrics.recall_score(Y_test, Y_pred)) "
   ]
  },
  {
   "cell_type": "code",
   "execution_count": 5,
   "id": "4d3dbe63-eb55-464c-8fda-ec04edaaaac5",
   "metadata": {},
   "outputs": [
    {
     "data": {
      "image/png": "[encoded data removed]",
      "text/plain": [
       "<Figure size 432x288 with 2 Axes>"
      ]
     },
     "metadata": {
      "needs_background": "light"
     },
     "output_type": "display_data"
    }
   ],
   "source": [
    "class_names=[0,1] # name  of classes \n",
    "fig, ax = plt.subplots() \n",
    "tick_marks = np.arange(len(class_names)) \n",
    "plt.xticks(tick_marks, class_names) \n",
    "plt.yticks(tick_marks, class_names) \n",
    "# create heatmap \n",
    "sns.heatmap(pd.DataFrame(cnf_matrix), annot=True, cmap=\"YlGnBu\" ,fmt='g') \n",
    "ax.xaxis.set_label_position(\"top\") \n",
    "plt.tight_layout() \n",
    "plt.title('Figure 1: Confusion matrix for Logistic Regression', y=1.1) \n",
    "plt.ylabel('Actual label') \n",
    "plt.xlabel('Predicted label');"
   ]
  },
  {
   "cell_type": "code",
   "execution_count": 6,
   "id": "5302a696-a46d-4887-ac39-b5d59e4b17ac",
   "metadata": {},
   "outputs": [],
   "source": [
    "# Problem 2\n",
    "# Creating the naive bayes model and fitting it\n",
    "classifier = GaussianNB()\n",
    "classifier.fit(X_train, Y_train)\n",
    "\n",
    "# Creating predictions with the test data\n",
    "Y_pred = classifier.predict(X_test) "
   ]
  },
  {
   "cell_type": "code",
   "execution_count": 7,
   "id": "790f0665-be41-40d6-b753-22bd8b38b41a",
   "metadata": {},
   "outputs": [
    {
     "name": "stdout",
     "output_type": "stream",
     "text": [
      "Accuracy: 0.7662337662337663\n",
      "Precision: 0.6610169491525424\n",
      "Recall: 0.7090909090909091\n"
     ]
    }
   ],
   "source": [
    "# Computing the metrics for the model\n",
    "cnf_matrix = confusion_matrix(Y_test, Y_pred) \n",
    "\n",
    "print(\"Accuracy:\",metrics.accuracy_score(Y_test, Y_pred)) \n",
    "print(\"Precision:\",metrics.precision_score(Y_test, Y_pred)) \n",
    "print(\"Recall:\",metrics.recall_score(Y_test, Y_pred)) "
   ]
  },
  {
   "cell_type": "code",
   "execution_count": 8,
   "id": "98b64f0a-b00a-48c6-b52b-e498b423d407",
   "metadata": {},
   "outputs": [
    {
     "data": {
      "image/png": "[encoded data removed]",
      "text/plain": [
       "<Figure size 432x288 with 2 Axes>"
      ]
     },
     "metadata": {
      "needs_background": "light"
     },
     "output_type": "display_data"
    }
   ],
   "source": [
    "class_names=[0,1] # name  of classes \n",
    "fig, ax = plt.subplots() \n",
    "tick_marks = np.arange(len(class_names)) \n",
    "plt.xticks(tick_marks, class_names) \n",
    "plt.yticks(tick_marks, class_names) \n",
    "# create heatmap \n",
    "sns.heatmap(pd.DataFrame(cnf_matrix), annot=True, cmap=\"YlGnBu\" ,fmt='g') \n",
    "ax.xaxis.set_label_position(\"top\") \n",
    "plt.tight_layout() \n",
    "plt.title('Figure 2: Confusion matrix for Naive Bayes', y=1.1) \n",
    "plt.ylabel('Actual label') \n",
    "plt.xlabel('Predicted label');"
   ]
  },
  {
   "cell_type": "code",
   "execution_count": 9,
   "id": "487b71d0-5586-4e8f-bfa3-09a165dc31fb",
   "metadata": {},
   "outputs": [],
   "source": [
    "# Problem 3\n",
    "# Scaling the features\n",
    "sc_X = StandardScaler() \n",
    "X = sc_X.fit_transform(X)\n",
    "\n",
    "# Specifing the model\n",
    "classifier = LogisticRegression(random_state=42)\n",
    "\n",
    "# Computing the k-fold cross validation and specifing the metrics used\n",
    "metrics = ['accuracy', 'precision', 'recall']\n",
    "kf = KFold(n_splits=5, random_state=42, shuffle=True)\n",
    "scores1 = cross_validate(classifier, X, Y, scoring=metrics, cv=kf, n_jobs=-1)\n",
    "\n",
    "kf = KFold(n_splits=10, random_state=42, shuffle=True)\n",
    "scores2 = cross_validate(classifier, X, Y, scoring=metrics, cv=kf, n_jobs=-1)"
   ]
  },
  {
   "cell_type": "code",
   "execution_count": 10,
   "id": "32229ed1-f1a2-4d24-a112-a06bb9819699",
   "metadata": {},
   "outputs": [
    {
     "name": "stdout",
     "output_type": "stream",
     "text": [
      "Accuracy (K=5):  0.7695526695526695\n",
      "Precision (K=5):  0.7185385878489328\n",
      "Recall (K=5):  0.5761472730990309\n",
      "Accuracy (K=10):  0.7746924128503077\n",
      "Precision (K=10):  0.7274342105263158\n",
      "Recall (K=10):  0.5791831525702494\n"
     ]
    }
   ],
   "source": [
    "# Displaying the metrics for the model\n",
    "print(\"Accuracy (K=5): \",scores1['test_accuracy'].mean())\n",
    "print(\"Precision (K=5): \",scores1['test_precision'].mean())\n",
    "print(\"Recall (K=5): \",scores1['test_recall'].mean())\n",
    "\n",
    "print(\"Accuracy (K=10): \",scores2['test_accuracy'].mean())\n",
    "print(\"Precision (K=10): \",scores2['test_precision'].mean())\n",
    "print(\"Recall (K=10): \",scores2['test_recall'].mean())"
   ]
  },
  {
   "cell_type": "code",
   "execution_count": 11,
   "id": "2ae79fc7-8f76-4ce4-9b53-ba699b50ea4c",
   "metadata": {},
   "outputs": [],
   "source": [
    "# Problem 4\n",
    "# Scaling the features\n",
    "sc_X = StandardScaler() \n",
    "X = sc_X.fit_transform(X)\n",
    "\n",
    "# Specifing the model\n",
    "classifier = GaussianNB()\n",
    "\n",
    "# Computing the k-fold cross validation and specifing the metrics used\n",
    "metrics = ['accuracy', 'precision', 'recall']\n",
    "kf = KFold(n_splits=5, random_state=42, shuffle=True)\n",
    "scores1 = cross_validate(classifier, X, Y, scoring=metrics, cv=kf, n_jobs=-1)\n",
    "\n",
    "kf = KFold(n_splits=10, random_state=42, shuffle=True)\n",
    "scores2 = cross_validate(classifier, X, Y, scoring=metrics, cv=kf, n_jobs=-1)"
   ]
  },
  {
   "cell_type": "code",
   "execution_count": 12,
   "id": "a6d4f113-6d53-4c4b-8835-5db01db383c5",
   "metadata": {},
   "outputs": [
    {
     "name": "stdout",
     "output_type": "stream",
     "text": [
      "Accuracy (K=5):  0.7539258127493421\n",
      "Precision (K=5):  0.6645294767870302\n",
      "Recall (K=5):  0.6011292482940126\n",
      "Accuracy (K=10):  0.7512303485987697\n",
      "Precision (K=10):  0.6537815101446814\n",
      "Recall (K=10):  0.5938748312619281\n"
     ]
    }
   ],
   "source": [
    "# Displaying the metrics for the model\n",
    "print(\"Accuracy (K=5): \",scores1['test_accuracy'].mean())\n",
    "print(\"Precision (K=5): \",scores1['test_precision'].mean())\n",
    "print(\"Recall (K=5): \",scores1['test_recall'].mean())\n",
    "\n",
    "print(\"Accuracy (K=10): \",scores2['test_accuracy'].mean())\n",
    "print(\"Precision (K=10): \",scores2['test_precision'].mean())\n",
    "print(\"Recall (K=10): \",scores2['test_recall'].mean())"
   ]
  }
 ],
 "metadata": {
  "kernelspec": {
   "display_name": "Python 3",
   "language": "python",
   "name": "python3"
  },
  "language_info": {
   "codemirror_mode": {
    "name": "ipython",
    "version": 3
   },
   "file_extension": ".py",
   "mimetype": "text/x-python",
   "name": "python",
   "nbconvert_exporter": "python",
   "pygments_lexer": "ipython3",
   "version": "3.8.8"
  }
 },
 "nbformat": 4,
 "nbformat_minor": 5
}
