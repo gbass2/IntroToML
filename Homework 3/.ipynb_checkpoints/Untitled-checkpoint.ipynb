{
 "cells": [
  {
   "cell_type": "code",
   "execution_count": 1,
   "id": "5a0ade3f-f5fd-4006-95b7-65af3c2c9933",
   "metadata": {},
   "outputs": [],
   "source": [
    "import numpy as np \n",
    "import matplotlib.pyplot as plt \n",
    "import pandas as pd\n",
    "import seaborn as sns \n",
    "import warnings \n",
    "\n",
    "from sklearn.datasets import load_breast_cancer\n",
    "from sklearn.model_selection import train_test_split\n",
    "from sklearn.preprocessing import StandardScaler \n",
    "from sklearn.linear_model import LogisticRegression\n",
    "from sklearn.metrics import confusion_matrix\n",
    "from sklearn import metrics\n",
    "from matplotlib.colors import ListedColormap\n",
    "from sklearn.naive_bayes import GaussianNB \n",
    "from sklearn.decomposition import PCA \n",
    "from sklearn.discriminant_analysis import LinearDiscriminantAnalysis as LDA"
   ]
  },
  {
   "cell_type": "code",
   "execution_count": 2,
   "id": "ef664d63-6ded-45d1-87dc-cf47d9f9ee43",
   "metadata": {},
   "outputs": [],
   "source": [
    "# Importing and cleaning the data\n",
    "breast = load_breast_cancer()\n",
    "breast_data = breast.data\n",
    "breast_input = pd.DataFrame(breast_data)\n",
    "breast_labels = breast.target\n",
    "labels = np.reshape(breast_labels,(569,1))\n",
    "final_breast_data = np.concatenate([breast_data,labels],axis=1)\n",
    "final_breast_data.shape\n",
    "breast_dataset = pd.DataFrame(final_breast_data)\n",
    "features = breast.feature_names\n",
    "features_labels = np.append(features,'label')\n",
    "breast_dataset.columns = features_labels"
   ]
  },
  {
   "cell_type": "code",
   "execution_count": 3,
   "id": "c441a07e-56dd-46f2-b50c-246c540b33c1",
   "metadata": {},
   "outputs": [],
   "source": [
    "# Problem 3 - Feature extraction using LDA and Niave Bayes\n",
    "X = breast_dataset.iloc[:,:30].values \n",
    "Y = breast_dataset.iloc[:, 30].values \n",
    "lda = LDA(n_components=1)\n",
    "lda_t = lda.fit_transform(X,Y)\n"
   ]
  },
  {
   "cell_type": "code",
   "execution_count": 9,
   "id": "60112ad1-ef1e-460e-a413-453b8fa1004b",
   "metadata": {},
   "outputs": [
    {
     "name": "stdout",
     "output_type": "stream",
     "text": [
      "Accuracy: 0.9736842105263158\n",
      "Precision: 0.9705882352941176\n",
      "Recall: 0.9850746268656716\n"
     ]
    }
   ],
   "source": [
    "# Creating the Naive Bayes model and fitting it\n",
    "\n",
    "X_train, X_test, Y_train, Y_test = train_test_split(lda_t, Y, test_size = 0.20, random_state=0)\n",
    "lda.fit(X_train,Y_train)\n",
    "\n",
    "#Creating predictions with the test data\n",
    "Y_pred = lda.predict(X_test)\n",
    "classifier = LogisticRegression(random_state=0)\n",
    "classifier.fit(X_train, Y_train)\n",
    "\n",
    "\n",
    "#Creating predictions with the test data\n",
    "Y_pred1 = classifier.predict(X_test)\n",
    "\n",
    "# Computing the metrics for the model\n",
    "cnf_matrix = confusion_matrix(Y_test, Y_pred) \n",
    "\n",
    "print(\"Accuracy:\",metrics.accuracy_score(Y_test, Y_pred)) \n",
    "print(\"Precision:\",metrics.precision_score(Y_test, Y_pred)) \n",
    "print(\"Recall:\",metrics.recall_score(Y_test, Y_pred)) \n",
    "print(\"Accuracy:\",metrics.accuracy_score(Y_test, Y_pred1)) \n",
    "print(\"Precision:\",metrics.precision_score(Y_test, Y_pred1)) \n",
    "print(\"Recall:\",metrics.recall_score(Y_test, Y_pred1)) "
   ]
  },
  {
   "cell_type": "code",
   "execution_count": null,
   "id": "18f880ae-3d79-40cc-bdfc-ff565dfa142a",
   "metadata": {},
   "outputs": [],
   "source": []
  },
  {
   "cell_type": "code",
   "execution_count": null,
   "id": "7aa05c83-c703-453f-844f-e31bebe7dec6",
   "metadata": {},
   "outputs": [],
   "source": []
  }
 ],
 "metadata": {
  "kernelspec": {
   "display_name": "Python 3",
   "language": "python",
   "name": "python3"
  },
  "language_info": {
   "codemirror_mode": {
    "name": "ipython",
    "version": 3
   },
   "file_extension": ".py",
   "mimetype": "text/x-python",
   "name": "python",
   "nbconvert_exporter": "python",
   "pygments_lexer": "ipython3",
   "version": "3.8.8"
  }
 },
 "nbformat": 4,
 "nbformat_minor": 5
}
