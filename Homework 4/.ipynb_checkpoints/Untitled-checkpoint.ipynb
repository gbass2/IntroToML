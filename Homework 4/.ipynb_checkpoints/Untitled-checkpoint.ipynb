{
 "cells": [
  {
   "cell_type": "code",
   "execution_count": null,
   "id": "10bf6e56-1774-4b65-918b-0cc8fb686339",
   "metadata": {},
   "outputs": [],
   "source": [
    "import numpy as np \n",
    "import matplotlib.pyplot as plt \n",
    "import pandas as pd\n",
    "import seaborn as sns \n",
    "import warnings \n",
    "\n",
    "import matplotlib.pyplot as plt\n",
    "from sklearn.datasets import load_breast_cancer\n",
    "from sklearn.model_selection import train_test_split\n",
    "from sklearn.preprocessing import StandardScaler \n",
    "from sklearn.linear_model import LogisticRegression\n",
    "from sklearn.metrics import confusion_matrix\n",
    "from sklearn import metrics\n",
    "from matplotlib.colors import ListedColormap\n",
    "from sklearn.decomposition import PCA \n",
    "from sklearn.svm import SVC "
   ]
  },
  {
   "cell_type": "code",
   "execution_count": null,
   "id": "1ebe0222-bfa5-4714-b79d-c79d5f186584",
   "metadata": {},
   "outputs": [],
   "source": [
    "# Importing and cleaning the data\n",
    "breast = load_breast_cancer()\n",
    "breast_data = breast.data\n",
    "breast_input = pd.DataFrame(breast_data)\n",
    "breast_labels = breast.target\n",
    "labels = np.reshape(breast_labels,(569,1))\n",
    "final_breast_data = np.concatenate([breast_data,labels],axis=1)\n",
    "final_breast_data.shape\n",
    "breast_dataset = pd.DataFrame(final_breast_data)\n",
    "features = breast.feature_names\n",
    "features_labels = np.append(features,'label')\n",
    "breast_dataset.columns = features_labels"
   ]
  },
  {
   "cell_type": "code",
   "execution_count": null,
   "id": "c3e85076-c973-4c03-b06d-da5b7da31c5f",
   "metadata": {},
   "outputs": [],
   "source": [
    "X = breast_dataset.iloc[:,:30].values \n",
    "Y = breast_dataset.iloc[:, 30].values \n",
    "\n",
    "# Scaling the features\n",
    "sc_X = StandardScaler() \n",
    "std_X = sc_X.fit_transform(X)"
   ]
  },
  {
   "cell_type": "code",
   "execution_count": null,
   "id": "d74ce557-1ab3-4538-845f-ef8dbd9f0ee8",
   "metadata": {},
   "outputs": [],
   "source": [
    "#Feature extraction using PCA\n",
    "# Scaling the features\n",
    "accuracy = []\n",
    "precision = []\n",
    "recall = []\n",
    "\n",
    "for i in range(29):\n",
    "    pca = PCA(n_components=i+1)\n",
    "    principalComponents = pca.fit_transform(std_X)\n",
    "    principalDf = pd.DataFrame(data = principalComponents)\n",
    "\n",
    "    # Creating the SVM model and fitting it\n",
    "    X_train, X_test, Y_train, Y_test = train_test_split(principalDf, Y, test_size = 0.20, random_state=42)\n",
    "    model = SVC(kernel='linear', C=1E10) \n",
    "    model.fit(X_train, Y_train) \n",
    "    # Creating predictions with the test data\n",
    "    Y_pred = model.predict(X_test)\n",
    "\n",
    "    accuracy.append(metrics.accuracy_score(Y_test, Y_pred))\n",
    "    precision.append(metrics.precision_score(Y_test, Y_pred))\n",
    "    recall.append(metrics.recall_score(Y_test, Y_pred))\n",
    "\n",
    "# Plotting the accuracy, precision, and recall against the iterations\n",
    "plt.figure()\n",
    "plt.plot(range(29),accuracy)\n",
    "plt.xlabel('Iterations')\n",
    "plt.ylabel('Accuracy')\n",
    "plt.title('Figure 2: Accuracy vs the Iterations')\n",
    "plt.xticks(range(29))\n",
    "plt.show()\n",
    "\n",
    "plt.figure()\n",
    "plt.plot(range(29),precision)\n",
    "plt.xlabel('Iterations')\n",
    "plt.ylabel('Precision')\n",
    "plt.title('Figure 3: Precision vs the Iterations')\n",
    "plt.show()\n",
    "\n",
    "plt.figure()\n",
    "plt.plot(range(29),recall)\n",
    "plt.xlabel('Iterations')\n",
    "plt.ylabel('Recall')\n",
    "plt.title('Figure 4: Recall vs the Iterations')\n",
    "plt.show()"
   ]
  },
  {
   "cell_type": "code",
   "execution_count": null,
   "id": "8012af63-3de9-4b03-9bc3-1876e2c4d4f6",
   "metadata": {},
   "outputs": [],
   "source": []
  },
  {
   "cell_type": "code",
   "execution_count": null,
   "id": "542bac70-dc26-4faa-9d53-baa365f42a67",
   "metadata": {},
   "outputs": [],
   "source": []
  }
 ],
 "metadata": {
  "kernelspec": {
   "display_name": "Python 3",
   "language": "python",
   "name": "python3"
  },
  "language_info": {
   "codemirror_mode": {
    "name": "ipython",
    "version": 3
   },
   "file_extension": ".py",
   "mimetype": "text/x-python",
   "name": "python",
   "nbconvert_exporter": "python",
   "pygments_lexer": "ipython3",
   "version": "3.8.8"
  }
 },
 "nbformat": 4,
 "nbformat_minor": 5
}
